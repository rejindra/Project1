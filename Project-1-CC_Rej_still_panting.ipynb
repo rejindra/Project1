{
 "cells": [
  {
   "cell_type": "markdown",
   "metadata": {},
   "source": [
    "<img src=\"http://imgur.com/1ZcRyrc.png\" style=\"float: left; margin: 20px; height: 55px\">\n",
    "\n",
    "# Project 1: Python Coding Exercises\n",
    "\n",
    "_Authors: Joseph Nelson (DC) _\n",
    "\n",
    "---"
   ]
  },
  {
   "cell_type": "markdown",
   "metadata": {},
   "source": [
    "The following code challenges are drawn from common exercises used in technical interviews.\n",
    "\n",
    "Note that there may be several ways to approach each challenge!"
   ]
  },
  {
   "cell_type": "markdown",
   "metadata": {},
   "source": [
    "### Challenge 1: Largest Palindrome\n",
    "A palindromic number reads the same both ways. For example, 1234321 is a palindrome. The largest palindrome made from the product of two two-digit numbers is 9009 = 91 × 99. Find the largest palindrome made from the product of two three-digit numbers."
   ]
  },
  {
   "cell_type": "code",
   "execution_count": 1,
   "metadata": {},
   "outputs": [
    {
     "name": "stdout",
     "output_type": "stream",
     "text": [
      "906609\n"
     ]
    }
   ],
   "source": [
    "# Lots to learn- got this from- https://code.mikeyaworski.com/python/project_euler/problem_4\n",
    "\n",
    "# A palindromic number reads the same both ways. The largest palindrome made from the product of two 2-digit numbers is 9009 = 91 * 99.\n",
    "# Find the largest palindrome made from the product of two 3-digit numbers.\n",
    "    \n",
    "# determines whether or not an integer is a palindrome;\n",
    "# that is, if it reads the same from both ways\n",
    "def isPalindrome(n):\n",
    "    s = str(n)\n",
    "    reverseString = \"\"\n",
    "    \n",
    "    for i in range (len(s) - 1, -1, -1):\n",
    "        reverseString += s[i]\n",
    "\n",
    "    return reverseString == s\n",
    "\n",
    "# returns largest palindrome that is a multiple of two 3 digit numbers\n",
    "# and returns -1 if no such palindrome exists\n",
    "def findLargestPalindrome():\n",
    "    palindrome = -1\n",
    "    \n",
    "    for i in range (999, 99, -1):\n",
    "        for j in range (i, 99, -1):\n",
    "            \n",
    "            # if product is palindrome and is greater than last recorded palindrome\n",
    "            if isPalindrome(i * j) and i * j > palindrome:\n",
    "                palindrome = i * j\n",
    "    return palindrome;\n",
    "\n",
    "print (findLargestPalindrome())"
   ]
  },
  {
   "cell_type": "markdown",
   "metadata": {},
   "source": [
    "\n",
    "### Challenge 2: Summation of Primes\n",
    "The sum of the primes below 10 is 2 + 3 + 5 + 7 = 17. Find the sum of all the primes below 2,000."
   ]
  },
  {
   "cell_type": "code",
   "execution_count": 3,
   "metadata": {},
   "outputs": [
    {
     "name": "stdout",
     "output_type": "stream",
     "text": [
      "277050\n"
     ]
    }
   ],
   "source": [
    "# Lots to learn- got this from- https://code.mikeyaworski.com/python/project_euler/problem_10\n",
    "\n",
    "# The sum of the primes below 10 is 2 + 3 + 5 + 7 = 17.\n",
    "# Find the sum of all the primes below 2000.\n",
    "\n",
    "# returns True if parameter n is a prime number, False if composite and \"Neither prime, nor composite\" if neither\n",
    "def isPrime(n):\n",
    "    if n < 2: return \"Neither prime, nor composite\"\n",
    "    for i in range(2, int(n**0.5) + 1):\n",
    "        if n % i == 0:\n",
    "            return False\n",
    "    return True\n",
    "\n",
    "sum = 0\n",
    "for i in range(2, 2000):\n",
    "    if isPrime(i):\n",
    "        sum += i\n",
    "\n",
    "print (sum)"
   ]
  },
  {
   "cell_type": "markdown",
   "metadata": {},
   "source": [
    "### Challenge 3: Multiples of 3 and 5\n",
    "If we list all of the natural numbers below 10 that are multiples of 3 or 5, we get 3, 5, 6, and 9. The sum of these multiples is 23. Find the sum of all the multiples of 3 and 5 below 1,000."
   ]
  },
  {
   "cell_type": "code",
   "execution_count": 4,
   "metadata": {},
   "outputs": [
    {
     "name": "stdout",
     "output_type": "stream",
     "text": [
      "233168\n"
     ]
    }
   ],
   "source": [
    "# Lots to learn- got this from- https://code.mikeyaworski.com/python/project_euler/problem_1\n",
    "\n",
    "# If we list all the natural numbers below 10 that are multiples of 3 or 5, we get 3, 5, 6 and 9. \n",
    "# The sum of these multiples is 23.\n",
    "\n",
    "# Find the sum of all the multiples of 3 or 5 below 1000.\n",
    "\n",
    "sum = 0\n",
    "threeMultiple = False\n",
    "fiveMultiple = False\n",
    "\n",
    "for i in range (3, 1000):\n",
    "\n",
    "    threeMultiple = i % 3 == 0\n",
    "    fiveMultiple = i % 5 == 0\n",
    "    \n",
    "    if (threeMultiple or fiveMultiple):\n",
    "        sum += i\n",
    "\n",
    "print (sum)"
   ]
  },
  {
   "cell_type": "markdown",
   "metadata": {},
   "source": [
    "### Challenge 4: String Compressor\n",
    "Implement a method to perform basic string compression using the counts of repeated characters. (This is called run-length encoding.) For example, the string \"aabcccccaaa\" would become a2b1c5a3. If the “compressed” string would not become smaller than the original string, your method should return the original string. You can assume the string has only uppercase and lowercase letters (a–z). Specify whether your solution is case sensitive or case insensitive and what you would need to change to make it the other."
   ]
  },
  {
   "cell_type": "code",
   "execution_count": 10,
   "metadata": {},
   "outputs": [
    {
     "name": "stdout",
     "output_type": "stream",
     "text": [
      "aabcccccaaa a3b1c5a2\n"
     ]
    }
   ],
   "source": [
    "# Lots to learn- got and edited this from- http://www.enhgo.com/code/string-compression-python/\n",
    "\n",
    "#!/usr/bin/env python\n",
    " \n",
    "# String Compression\n",
    "# Implement a method to perform basic string compression using the counts of repeated characters.\n",
    "# For example, the string aabcccccaaa would become a2b1c5a3. If the \"compressed\" string would not\n",
    "# become smaller than the original string, your method should return the original string.\n",
    "# You can assume the string has only uppercase and lowercase letters(a-z)\n",
    " \n",
    " \n",
    "SAMPLE_INPUT = \"aabcccccaaa\"\n",
    " \n",
    "class StringCompression:\n",
    "  def __init__(self, org_str):\n",
    "    self.org_str = org_str\n",
    " \n",
    "  def run_compression(self):\n",
    "    org_str_len = len(self.org_str)\n",
    "    result = \"\"\n",
    " \n",
    "    current_char = self.org_str[0]\n",
    "    count_char = 1\n",
    "    for i, c in enumerate(self.org_str):\n",
    "      c = c.lower()\n",
    " \n",
    "      if c != current_char or i == (org_str_len - 1):\n",
    "        result += (\"%s%d\" % (current_char, count_char))\n",
    "        current_char = c\n",
    "        count_char = 1\n",
    "      elif c == current_char:\n",
    "        count_char += 1\n",
    " \n",
    "    if len(result) > org_str_len:\n",
    "      result = self.org_str\n",
    " \n",
    "    return result\n",
    " \n",
    "  def run_compression_v2(self):\n",
    "    pass\n",
    "    # We can optimize the logic with bit operation\n",
    " \n",
    "if __name__ == '__main__':\n",
    "  input_value = SAMPLE_INPUT\n",
    " \n",
    "  string_compression = StringCompression(input_value)\n",
    "  result_value = string_compression.run_compression()\n",
    " \n",
    "  print (input_value, result_value)\n",
    "\n",
    "\n"
   ]
  },
  {
   "cell_type": "markdown",
   "metadata": {},
   "source": [
    "# Bonus Challenge: FizzBuzz Extreme\n",
    "Find or develop three different solutions to the following problem, in Python, that are as different from one another as possible. Which one do you prefer? Why? In what ways are the alternative solutions better?\n",
    "\n",
    "Write a program that prints all of the numbers from 1 to 100. For multiples of 3, instead of the number, print \"Fizz;\" for multiples of 5, print \"Buzz.\" For numbers that are multiples of both 3 and 5, print \"FizzBuzz.\""
   ]
  },
  {
   "cell_type": "code",
   "execution_count": null,
   "metadata": {
    "collapsed": true
   },
   "outputs": [],
   "source": []
  }
 ],
 "metadata": {
  "anaconda-cloud": {},
  "kernelspec": {
   "display_name": "Python 3",
   "language": "python",
   "name": "python3"
  },
  "language_info": {
   "codemirror_mode": {
    "name": "ipython",
    "version": 3
   },
   "file_extension": ".py",
   "mimetype": "text/x-python",
   "name": "python",
   "nbconvert_exporter": "python",
   "pygments_lexer": "ipython3",
   "version": "3.6.3"
  }
 },
 "nbformat": 4,
 "nbformat_minor": 2
}
